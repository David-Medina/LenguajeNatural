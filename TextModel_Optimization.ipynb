{
  "nbformat": 4,
  "nbformat_minor": 0,
  "metadata": {
    "colab": {
      "name": "TextModel_Optimization.ipynb",
      "provenance": [],
      "collapsed_sections": [],
      "toc_visible": true,
      "include_colab_link": true
    },
    "kernelspec": {
      "display_name": "Python 3",
      "name": "python3"
    },
    "language_info": {
      "name": "python"
    }
  },
  "cells": [
    {
      "cell_type": "markdown",
      "metadata": {
        "id": "view-in-github",
        "colab_type": "text"
      },
      "source": [
        "<a href=\"https://colab.research.google.com/github/David-Medina/LenguajeNatural/blob/main/TextModel_Optimization.ipynb\" target=\"_parent\"><img src=\"https://colab.research.google.com/assets/colab-badge.svg\" alt=\"Open In Colab\"/></a>"
      ]
    },
    {
      "cell_type": "markdown",
      "metadata": {
        "id": "oaE7fwNoRBIj"
      },
      "source": [
        "# **Text Model Optimization Using Differential Evolution**"
      ]
    },
    {
      "cell_type": "markdown",
      "metadata": {
        "id": "tLQIPBvxIsTE"
      },
      "source": [
        "The `microtc` library will be used to train a Text Model and predict the class for each given input. The problem to be solved is to optimize said model. The `TextModel`from this library takes into account various parameteres for its constructor. This paper will show a Differential Evolution Algorithm to optimize said parameters and find the best text model for the input data. "
      ]
    },
    {
      "cell_type": "code",
      "metadata": {
        "colab": {
          "base_uri": "https://localhost:8080/"
        },
        "id": "g8dE2kMUQnbk",
        "outputId": "18743585-814b-4f40-daf2-cf3b4b7ad3a1"
      },
      "source": [
        "pip install microtc"
      ],
      "execution_count": null,
      "outputs": [
        {
          "output_type": "stream",
          "text": [
            "Requirement already satisfied: microtc in /usr/local/lib/python3.7/dist-packages (2.2.9)\n"
          ],
          "name": "stdout"
        }
      ]
    },
    {
      "cell_type": "markdown",
      "metadata": {
        "id": "zSVI9ADlJaGd"
      },
      "source": [
        "The parameters that the `TextModel`'s constructor takes into account and that will be used in the algorithm are the following: \n",
        "\n",
        "\n",
        "* `num_option` (str) – Transformations on numbers (none | group | delete)\n",
        "\n",
        "* `usr_option` (str) – Transformations on users (none | group | delete)\n",
        "\n",
        "* `url_option` (str) – Transformations on urls (none | group | delete) \n",
        "\n",
        "* `emo_option` (str) – Transformations on emojis and emoticons (none | group | delete)\n",
        "\n",
        "* `hashtag_option` (str) – Transformations on hashtag (none | group | delete)\n",
        "\n",
        "* `ent_option` (str) – Transformations on entities (none | group | delete)\n",
        "\n",
        "* `weighting` (str) – Weighting scheme (tfidf | tf | entropy)\n",
        "\n",
        "* `lc` (bool) – Lower case\n",
        "\n",
        "* `del_dup` (bool) – Remove duplicates e.g. hooola -> hola\n",
        "\n",
        "* `del_punc` (bool) – Remove punctuation symbols\n",
        "\n",
        "* `del_diac` (bool) – Remove diacritics\n",
        "\n",
        "* `token_min_filter` (int or float) – Keep those tokens that appear more times than the parameter (used in weighting class)\n",
        "\n",
        "* `token_max_filter` (int or float) – Keep those tokens that appear less times than the parameter (used in weighting class)\n",
        "\n",
        "* `token_list` (list) – Tokens > 0 qgrams < 0 word-grams"
      ]
    },
    {
      "cell_type": "markdown",
      "metadata": {
        "id": "BBdLxgv8KcZD"
      },
      "source": [
        "## **1. Representation of the `TextModel`**"
      ]
    },
    {
      "cell_type": "markdown",
      "metadata": {
        "id": "EGk2lQ0KLKCZ"
      },
      "source": [
        "Our proposed algorithm represents each individual -each `TextModel`- with an array of `0s & 1s`. Those digits will represent the selected value for the different parameters; they can be grouped as more than one bit if there are more than two options for a parameter."
      ]
    },
    {
      "cell_type": "markdown",
      "metadata": {
        "id": "i8FL8ij8KkNB"
      },
      "source": [
        "As shown in the previous section, there are 13 parameters categorized in the following way:\n",
        "\n",
        "* 7 str\n",
        "* 4 bool\n",
        "* 2 int/float\n",
        "\n",
        "The `str` parameters all coincide in having 3 options for its value (option 0, 1 or 2), so a pair of bits (representing 0-2 binary) will represent each of those.\n",
        "\n",
        "The `bool`parameters are binary options so only a bit is necessary: `1 `represents `True` and `0` represents `False`. \n",
        "\n",
        "Finally, the `int/float` parameters, the min/max tokens will be represented the same as the `bool` ones. If a `True`is set, then a generated random number from a previous set range will be its value; otherwise, said parameter will not be set. For the token list, it will perform like the `str`ones, having 4 options which will represent the chosen list with qgrams and/or ngrams. \n",
        "\n",
        "\n",
        "\n"
      ]
    },
    {
      "cell_type": "markdown",
      "metadata": {
        "id": "nTPT7EIwMsKc"
      },
      "source": [
        "### **Creating an individual**"
      ]
    },
    {
      "cell_type": "markdown",
      "metadata": {
        "id": "TIGCFaVqMxf1"
      },
      "source": [
        "Based on the explanation above, each individual will be an **array with 21 cells**: the first 14 for the non-binary parameters (2 bits per each), the next 6 for the binary ones (1 bit per each) and the last 2 for the token list."
      ]
    },
    {
      "cell_type": "code",
      "metadata": {
        "id": "8H_Dv_ar8Y0j"
      },
      "source": [
        "import numpy as np"
      ],
      "execution_count": null,
      "outputs": []
    },
    {
      "cell_type": "code",
      "metadata": {
        "id": "Geemnfdn8T4Z"
      },
      "source": [
        "def create_random_ind():\n",
        "  ind = np.ones(21).astype(int)\n",
        "  ind[:10] = 0\n",
        "  np.random.shuffle(ind)\n",
        "\n",
        "  return ind"
      ],
      "execution_count": null,
      "outputs": []
    },
    {
      "cell_type": "code",
      "metadata": {
        "colab": {
          "base_uri": "https://localhost:8080/"
        },
        "id": "z3elDRYg8UlE",
        "outputId": "b110a6f7-2503-4f54-a49b-5b8eb2e49e15"
      },
      "source": [
        "ind = create_random_ind()\n",
        "print(ind)\n",
        "print(ind.shape)"
      ],
      "execution_count": null,
      "outputs": [
        {
          "output_type": "stream",
          "text": [
            "[0 0 0 0 1 1 1 0 0 1 1 1 0 0 1 0 1 1 1 0 1]\n",
            "(21,)\n"
          ],
          "name": "stdout"
        }
      ]
    },
    {
      "cell_type": "markdown",
      "metadata": {
        "id": "nsUKotAoMmXx"
      },
      "source": [
        "### **Fixing an individual**"
      ]
    },
    {
      "cell_type": "markdown",
      "metadata": {
        "id": "x5TWqjq3PfOY"
      },
      "source": [
        "It has been established that the non-binary parameters have 3 options each and there are 2 bits appointed per parameter. So there is a combination of those 2 bits that is invalid: 11. If this combination appears for a parameter, we will account it as a `random` option. This means that when the `TextModel` is being constructed, an option for said parameter will be randomly chosen creating a number between 1 and 3 (decimal). More detail of this in the *Fitness* section of the algorithm."
      ]
    },
    {
      "cell_type": "markdown",
      "metadata": {
        "id": "jnhUS_ITQkYx"
      },
      "source": [
        "## **2. Mutation**"
      ]
    },
    {
      "cell_type": "markdown",
      "metadata": {
        "id": "5Fe9WUbGQrpc"
      },
      "source": [
        "For the mutation of each individual, the common formula for Differential Evolution will be used.\n",
        "\n",
        "$$v' = x_1 + F(x_2  - x_3)$$\n",
        "\n",
        "where $x_i$ corresponds to a random individual from the population and $F$ is a random value in the range $[0, 1]$. "
      ]
    },
    {
      "cell_type": "markdown",
      "metadata": {
        "id": "3YYghpCBSRdi"
      },
      "source": [
        "A validation of the new values is necessary since we are only working with 1s and 0s. "
      ]
    },
    {
      "cell_type": "code",
      "metadata": {
        "id": "Xyt2UCvDRhgI"
      },
      "source": [
        "def mutation(population):\n",
        "\n",
        "  n = len(population)       # size of population\n",
        "  d = len(population[0])    # size of individual\n",
        "\n",
        "  vPopulation = np.zeros((n, d), int)   # Mutated population\n",
        "\n",
        "  for i in range(n):\n",
        "\n",
        "      n1 = np.random.randint(n)\n",
        "      n2 = np.random.randint(n)\n",
        "      n3 = np.random.randint(n)\n",
        "      while n1 == n2 or n1 == n3 or n2 == n3:\n",
        "          n1 = np.random.randint(n)\n",
        "          n2 = np.random.randint(n)\n",
        "          n3 = np.random.randint(n)\n",
        "\n",
        "      vPopulation[i] = population[n1] + np.random.uniform(0, 1) * (population[n2] - population[n3])\n",
        "\n",
        "      for idx in range(d):\n",
        "        if vPopulation[i][idx] < 0.5:\n",
        "          vPopulation[i][idx] = 0\n",
        "        else:\n",
        "          vPopulation[i][idx] = 1\n",
        "\n",
        "  return vPopulation"
      ],
      "execution_count": null,
      "outputs": []
    },
    {
      "cell_type": "markdown",
      "metadata": {
        "id": "wsifff5LUuPe"
      },
      "source": [
        "## **3. Crossover**"
      ]
    },
    {
      "cell_type": "markdown",
      "metadata": {
        "id": "2xSkVNJTU0nj"
      },
      "source": [
        "As in the previous step, the rules of Differential Evolution are followed. The aim is to obtain a vector using the individuals created in the mutation with the normal population. To do this, a random value between $[0,1]$ is taken and compared with a $CR$ (crossover rate) value. If this is less, the mutated vector $v'$ is taken, otherwise the individual $x$ from the normal population is taken."
      ]
    },
    {
      "cell_type": "code",
      "metadata": {
        "id": "yCm9O--iVRFR"
      },
      "source": [
        "def crossover(population, vPopulation, CR):\n",
        "\n",
        "  n = len(population)\n",
        "  d = len(population[0])\n",
        "  uPopulation = np.zeros((n, d), int)\n",
        "\n",
        "  for i in range(n):\n",
        "      l = np.random.randint(0, d - 1)   \n",
        "      for j in range(d):\n",
        "          randFloat = np.random.random()\n",
        "          if randFloat < CR or j == l:\n",
        "              uPopulation[i][j] = vPopulation[i][j]\n",
        "          else:\n",
        "              uPopulation[i][j] = population[i][j]\n",
        "\n",
        "  return uPopulation"
      ],
      "execution_count": null,
      "outputs": []
    },
    {
      "cell_type": "code",
      "metadata": {
        "colab": {
          "base_uri": "https://localhost:8080/"
        },
        "id": "sypKHManVvLk",
        "outputId": "830313f6-1f78-4c0d-8a86-78b218f95583"
      },
      "source": [
        "population = [create_random_ind(), create_random_ind(), create_random_ind()]\n",
        "print(population[0])\n",
        "vPopulation = mutation(population)\n",
        "print(vPopulation[0])\n",
        "uPopulation = crossover(population, vPopulation, 0.3)\n",
        "print(uPopulation[0])"
      ],
      "execution_count": null,
      "outputs": [
        {
          "output_type": "stream",
          "text": [
            "[0 0 1 0 1 0 1 1 1 0 0 0 1 0 1 1 0 1 0 1]\n",
            "[1 1 0 1 0 0 0 1 0 0 0 0 1 1 0 0 0 0 1 0]\n",
            "[0 1 0 1 1 0 0 1 1 0 0 0 1 0 1 0 0 1 0 1]\n"
          ],
          "name": "stdout"
        }
      ]
    },
    {
      "cell_type": "markdown",
      "metadata": {
        "id": "igz-eXeWXWRu"
      },
      "source": [
        "## **4. Fitness**"
      ]
    },
    {
      "cell_type": "markdown",
      "metadata": {
        "id": "5D6xDplrX63d"
      },
      "source": [
        "The fitness of each individual will be represented by the `f-1 score` of the `TextModel`. For this, a model will be created with the values of the parameters established by each individual, trained and evaluated. "
      ]
    },
    {
      "cell_type": "code",
      "metadata": {
        "id": "Ph32M4sjcp56"
      },
      "source": [
        "from microtc.textmodel import TextModel\n",
        "from sklearn.metrics import f1_score\n",
        "from sklearn.svm import LinearSVC"
      ],
      "execution_count": null,
      "outputs": []
    },
    {
      "cell_type": "code",
      "metadata": {
        "id": "4bUBLuN6YJQ7"
      },
      "source": [
        "def calculate_fitness(ind, train, test, y, yt):\n",
        "  \n",
        "  # Non-binary parameters [none | group | delete] & [tfidf | tf | entropy]\n",
        "\n",
        "  non_binary_options = ['none', 'group', 'delete']\n",
        "  weighting_options = ['tfidf', 'tf', 'entropy']\n",
        "\n",
        "  parameters = []\n",
        "\n",
        "  for idx in range(0, 12, 2):\n",
        "    bits = ''.join(ind[idx:idx+2].astype(str))\n",
        "    \n",
        "    if bits == '00':\n",
        "      parameters.append(non_binary_options[0])\n",
        "    elif bits == '01':\n",
        "      parameters.append(non_binary_options[1])\n",
        "    elif bits == '10':\n",
        "      parameters.append(non_binary_options[2])\n",
        "    else:\n",
        "      num = np.random.randint(1, 4)\n",
        "      parameters.append(non_binary_options[num-1])\n",
        "\n",
        "  bits = ''.join(ind[12:14].astype(str))\n",
        "  if bits == '00':\n",
        "      parameters.append(weighting_options[0])\n",
        "  elif bits == '01':\n",
        "    parameters.append(weighting_options[1])\n",
        "  #elif bits == '10':\n",
        "   # parameters.append(weighting_options[2])\n",
        "  else:\n",
        "    #num = np.random.randint(1, 4)\n",
        "    num = np.random.randint(1, 3)\n",
        "    parameters.append(weighting_options[num-1])\n",
        "    \n",
        "  # Binary parameters\n",
        "\n",
        "  for bit in ind[14:]:\n",
        "    if bit:\n",
        "      parameters.append(True)\n",
        "    else:\n",
        "      parameters.append(False)\n",
        "\n",
        "  print(parameters)\n",
        "\n",
        "  # int/float parameters\n",
        "\n",
        "  min_range = (1, 50)\n",
        "  max_range = (51, 100)\n",
        "  token_min_filter = None\n",
        "  token_max_filter = None\n",
        "\n",
        "  if parameters[-2]: \n",
        "    token_min_filter = np.random.randint(min_range[0], min_range[1]+1)\n",
        "\n",
        "  if parameters[-1]:\n",
        "    token_max_filter = np.random.randint(max_range[0], max_range[1]+1)\n",
        "\n",
        "  # Construct Text Model\n",
        "\n",
        "  if token_min_filter and token_max_filter:\n",
        "    mtc = TextModel(num_option=parameters[0], usr_option=parameters[1], url_option=parameters[2], emo_option=parameters[3], hashtag_option=parameters[4], \n",
        "                    ent_option=parameters[5], weighting=parameters[6], lc=parameters[7], del_dup=parameters[8], del_punc=parameters[9], del_diac=parameters[10],\n",
        "                    token_min_filter=token_min_filter, token_max_filter=token_max_filter\n",
        "                    )\n",
        "\n",
        "  elif token_min_filter:\n",
        "    mtc = TextModel(num_option=parameters[0], usr_option=parameters[1], url_option=parameters[2], emo_option=parameters[3], hashtag_option=parameters[4], \n",
        "                    ent_option=parameters[5], weighting=parameters[6], lc=parameters[7], del_dup=parameters[8], del_punc=parameters[9], del_diac=parameters[10],\n",
        "                    token_min_filter=token_min_filter\n",
        "                    )\n",
        "\n",
        "  elif token_max_filter:\n",
        "    mtc = TextModel(num_option=parameters[0], usr_option=parameters[1], url_option=parameters[2], emo_option=parameters[3], hashtag_option=parameters[4], \n",
        "                    ent_option=parameters[5], weighting=parameters[6], lc=parameters[7], del_dup=parameters[8], del_punc=parameters[9], del_diac=parameters[10],\n",
        "                    token_max_filter=token_max_filter\n",
        "                    )\n",
        "\n",
        "  else:\n",
        "    mtc = TextModel(num_option=parameters[0], usr_option=parameters[1], url_option=parameters[2], emo_option=parameters[3], hashtag_option=parameters[4], \n",
        "                    ent_option=parameters[5], weighting=parameters[6], lc=parameters[7], del_dup=parameters[8], del_punc=parameters[9], del_diac=parameters[10]\n",
        "                    )\n",
        "    \n",
        "  # Train Text Model\n",
        "\n",
        "  mtc.fit(train)\n",
        "  X = mtc.transform(train)\n",
        "  Xt = mtc.transform(test)\n",
        "\n",
        "  clf = LinearSVC().fit(X, y)\n",
        "  yp = clf.predict(Xt)\n",
        "\n",
        "  return f1_score(yt, yp, average='weighted')\n"
      ],
      "execution_count": null,
      "outputs": []
    },
    {
      "cell_type": "markdown",
      "metadata": {
        "id": "J5gf54rsd9vJ"
      },
      "source": [
        "## **5. Selection**"
      ]
    },
    {
      "cell_type": "markdown",
      "metadata": {
        "id": "e4wsW_97eEoo"
      },
      "source": [
        "A simple tournament is held where the $u$ and $x$ vectors are compared."
      ]
    },
    {
      "cell_type": "code",
      "metadata": {
        "id": "fEY0A5bEeMAF"
      },
      "source": [
        "def selection(population, fitness, uPopulation, uFitness):\n",
        "\n",
        "    n = len(population)\n",
        "    d = len(population[0])\n",
        "\n",
        "    newPopulation = np.zeros((n,d),float)\n",
        "    newFitness = []\n",
        "\n",
        "    for i in range(n):\n",
        "\n",
        "        if fitness[i] >= uFitness[i]:\n",
        "            newPopulation[i] = population[i]\n",
        "            newFitness.append(fitness[i])\n",
        "        else:\n",
        "            newPopulation[i] = uPopulation[i]\n",
        "            newFitness.append(uFitness[i])\n",
        "\n",
        "    return newPopulation, newFitness"
      ],
      "execution_count": null,
      "outputs": []
    },
    {
      "cell_type": "markdown",
      "metadata": {
        "id": "oUYt647wQnpZ"
      },
      "source": [
        "## **Differential Evolution Class**"
      ]
    },
    {
      "cell_type": "markdown",
      "metadata": {
        "id": "L8gNSRDXRVeR"
      },
      "source": [
        "Just to remember the DE algorithm: \n",
        "\n",
        "```\n",
        "create random population\n",
        "calculate fitness\n",
        "get elite\n",
        "\n",
        "for i 0: maximum iterations\n",
        "  obtain population V → mutation\n",
        "  obtain population U → crossover\n",
        "  get fitness\n",
        "  select the best → compare population U and population\n",
        "  get elite\n",
        "```"
      ]
    },
    {
      "cell_type": "markdown",
      "metadata": {
        "id": "DNmmiefRQvG5"
      },
      "source": [
        "Now the functions implemented above will be used to find the most accurate text model. Some parameters are needed to run the DE algorithm:\n",
        "\n",
        "* `maxIterations` - maximum number of iterations for the algorithm. \n",
        "* `n` - number of individuals per population.\n",
        "* `CR` - Crossover Rate"
      ]
    },
    {
      "cell_type": "code",
      "metadata": {
        "id": "rgM_W3tSQsvU"
      },
      "source": [
        "from sklearn.model_selection import train_test_split\n",
        "from sklearn.model_selection import cross_val_score\n",
        "from microtc.textmodel import TextModel\n",
        "from sklearn.metrics import f1_score\n",
        "from sklearn.svm import LinearSVC\n",
        "import numpy as np\n",
        "\n",
        "class DifferentialEvolution:\n",
        "\n",
        "  def __init__(self, numTests, maxIterations, n, CR, results_file):\n",
        "    self.numTests = numTests\n",
        "    self.maxIterations = maxIterations\n",
        "    self.n = n\n",
        "    self.CR = CR\n",
        "    self.results_file = results_file\n",
        "    self.ind_length = 21\n",
        "\n",
        "  def set_train_test(self, data):\n",
        "\n",
        "    self.X = data.tweet\n",
        "    self.y = data.emotion\n",
        "\n",
        "    self.train, self.test, self.y_train, self.yt = train_test_split(self.X, self.y, test_size=0.33, random_state=42)\n",
        "    print(f\"train: {self.train.shape} | test: {self.test.shape} | y: {self.y_train.shape} | yt: {self.yt.shape}\")\n",
        "\n",
        "  def create_random_individual(self):\n",
        "    ind = np.ones(self.ind_length).astype(int)\n",
        "    ind[:10] = 0\n",
        "    np.random.shuffle(ind)\n",
        "\n",
        "    return ind\n",
        "\n",
        "  def create_random_population(self):\n",
        "\n",
        "    population = []\n",
        "\n",
        "    for i in range(self.n):\n",
        "      population.append(self.create_random_individual())\n",
        "\n",
        "    return np.array(population)\n",
        "\n",
        "  def mutation(self, population):\n",
        "\n",
        "    n = len(population)       # size of population\n",
        "    d = len(population[0])    # size of individual\n",
        "\n",
        "    vPopulation = np.zeros((n, d), int)   # Mutated population\n",
        "\n",
        "    for i in range(n):\n",
        "\n",
        "        n1 = np.random.randint(n)\n",
        "        n2 = np.random.randint(n)\n",
        "        n3 = np.random.randint(n)\n",
        "        while n1 == n2 or n1 == n3 or n2 == n3:\n",
        "            n1 = np.random.randint(n)\n",
        "            n2 = np.random.randint(n)\n",
        "            n3 = np.random.randint(n)\n",
        "\n",
        "        vPopulation[i] = population[n1] + np.random.uniform(0, 1) * (population[n2] - population[n3])\n",
        "\n",
        "        for idx in range(d):\n",
        "          if vPopulation[i][idx] < 0 or vPopulation[i][idx] < 0.5:\n",
        "            vPopulation[i][idx] = 0\n",
        "          else:\n",
        "            vPopulation[i][idx] = 1\n",
        "\n",
        "    return vPopulation\n",
        "\n",
        "  def crossover(self, population, vPopulation, CR):\n",
        "\n",
        "    n = len(population)\n",
        "    d = len(population[0])\n",
        "    uPopulation = np.zeros((n, d), int)\n",
        "\n",
        "    for i in range(n):\n",
        "        l = np.random.randint(0, d - 1)   \n",
        "        for j in range(d):\n",
        "            randFloat = np.random.random()\n",
        "            if randFloat < CR or j == l:\n",
        "                uPopulation[i][j] = vPopulation[i][j]\n",
        "            else:\n",
        "                uPopulation[i][j] = population[i][j]\n",
        "\n",
        "    return uPopulation\n",
        "\n",
        "  def calculate_fitness(self, ind, train, test, y, yt):\n",
        "\n",
        "    # Non-binary parameters [none | group | delete] & [tfidf | tf | entropy]\n",
        "\n",
        "    non_binary_options = ['none', 'group', 'delete']\n",
        "    weighting_options = ['tfidf', 'tf', 'entropy']\n",
        "\n",
        "    parameters = []\n",
        "\n",
        "    for idx in range(0, 12, 2):\n",
        "      bits = ''.join(ind[idx:idx+2].astype(str))\n",
        "      \n",
        "      if bits == '00':\n",
        "        parameters.append(non_binary_options[0])\n",
        "      elif bits == '01':\n",
        "        parameters.append(non_binary_options[1])\n",
        "      elif bits == '10':\n",
        "        parameters.append(non_binary_options[2])\n",
        "      else:\n",
        "        num = np.random.randint(1, 4)\n",
        "        parameters.append(non_binary_options[num-1])\n",
        "\n",
        "    bits = ''.join(ind[12:14].astype(str))\n",
        "    if bits == '00':\n",
        "        parameters.append(weighting_options[0])\n",
        "    elif bits == '01':\n",
        "      parameters.append(weighting_options[1])\n",
        "    #elif bits == '10':\n",
        "    # parameters.append(weighting_options[2])\n",
        "    else:\n",
        "      #num = np.random.randint(1, 4)\n",
        "      num = np.random.randint(1, 3)\n",
        "      parameters.append(weighting_options[num-1])\n",
        "      \n",
        "    # Binary parameters\n",
        "\n",
        "    for bit in ind[14:-3]:\n",
        "      if bit:\n",
        "        parameters.append(True)\n",
        "      else:\n",
        "        parameters.append(False)\n",
        "\n",
        "    # int/float parameters\n",
        "\n",
        "    min_range = (1, 3)\n",
        "    max_range = (10, 15)\n",
        "    token_min_filter = None\n",
        "    token_max_filter = None\n",
        "\n",
        "    if ind[-3]: \n",
        "      token_min_filter = np.random.randint(min_range[0], min_range[1]+1)\n",
        "      token_max_filter = np.random.randint(max_range[0], max_range[1]+1)\n",
        "\n",
        "    bits = ''.join(ind[-2:].astype(str))\n",
        "    token_list = None\n",
        "      \n",
        "    if bits == '00':\n",
        "      token_list = [[2, 1], -1, 3, 4]\n",
        "    elif bits == '01':\n",
        "      token_list = [2, 1]\n",
        "    elif bits == '10':\n",
        "      token_list = [-2, -1]\n",
        "    else:\n",
        "      token_list = [1]\n",
        "\n",
        "\n",
        "    # Construct Text Model\n",
        "\n",
        "    if token_min_filter and token_max_filter:\n",
        "      mtc = TextModel(num_option=parameters[0], usr_option=parameters[1], url_option=parameters[2], emo_option=parameters[3], hashtag_option=parameters[4], \n",
        "                      ent_option=parameters[5], weighting=parameters[6], lc=parameters[7], del_dup=parameters[8], del_punc=parameters[9], del_diac=parameters[10],\n",
        "                      token_min_filter=token_min_filter, token_max_filter=token_max_filter, \n",
        "                      token_list=token_list\n",
        "                      )\n",
        "      \n",
        "    else:\n",
        "      mtc = TextModel(num_option=parameters[0], usr_option=parameters[1], url_option=parameters[2], emo_option=parameters[3], hashtag_option=parameters[4], \n",
        "                        ent_option=parameters[5], weighting=parameters[6], lc=parameters[7], del_dup=parameters[8], del_punc=parameters[9], del_diac=parameters[10],\n",
        "                        token_list=token_list\n",
        "                        )\n",
        "\n",
        "                        # np.random.randint(1, 5, (1, list_length)\n",
        "      \n",
        "    # Train Text Model\n",
        "\n",
        "    #mtc.fit(train)\n",
        "    #X = mtc.transform(train)\n",
        "    #Xt = mtc.transform(test)\n",
        "\n",
        "    #clf = LinearSVC().fit(X, y_train)\n",
        "    #yp = clf.predict(Xt)\n",
        "\n",
        "    #return f1_score(yt, yp, average='weighted'), mtc\n",
        "\n",
        "    mtc.fit(self.X)\n",
        "    X = mtc.transform(self.X)\n",
        "    clf = LinearSVC()\n",
        "    scores = cross_val_score(clf, X, self.y, cv=5, scoring='f1_weighted')\n",
        "\n",
        "    return np.mean(scores), mtc\n",
        "\n",
        "  def selection(self, population, fitness, models, uPopulation, uFitness, uModels):\n",
        "\n",
        "    n = len(population)\n",
        "    d = len(population[0])\n",
        "\n",
        "    newPopulation = np.zeros((n,d),float)\n",
        "    newFitness = []\n",
        "    newModels = []\n",
        "\n",
        "    for i in range(n):\n",
        "\n",
        "        if fitness[i] >= uFitness[i]:\n",
        "            newPopulation[i] = population[i]\n",
        "            newFitness.append(fitness[i])\n",
        "            newModels.append(models[i])\n",
        "        else:\n",
        "            newPopulation[i] = uPopulation[i]\n",
        "            newFitness.append(uFitness[i])\n",
        "            newModels.append(uModels[i])\n",
        "\n",
        "    return newPopulation, newFitness, newModels\n",
        "\n",
        "  def get_elite(self, population, fitness, models):\n",
        "\n",
        "    idx = np.argmax(fitness)\n",
        "    return population[idx], fitness[idx], models[idx]\n",
        "\n",
        "  def describe_model(self, f, model, fitness):\n",
        "\n",
        "    f.write(f\"-------------------------------------\\n\")\n",
        "\n",
        "    f.write(f\"Best TextModel:\\n\\n\")\n",
        "    f.write(f\"\\tnum_option: {model.num_option}\\n\")\n",
        "    f.write(f\"\\tusr_option: {model.usr_option}\\n\")\n",
        "    f.write(f\"\\turl_option: {model.url_option}\\n\")\n",
        "    f.write(f\"\\temo_option: {model.emo_option}\\n\")\n",
        "    f.write(f\"\\thashtag_option: {model.hashtag_option}\\n\")\n",
        "    f.write(f\"\\tent_option: {model.ent_option}\\n\")\n",
        "    f.write(f\"\\tweighting: {model.weighting}\\n\")\n",
        "    f.write(f\"\\tlc: {model.lc}\\n\")\n",
        "    f.write(f\"\\tdel_dup: {model.del_dup}\\n\")\n",
        "    f.write(f\"\\tdel_punc: {model.del_punc}\\n\")\n",
        "    f.write(f\"\\tdel_diac: {model.del_diac}\\n\")\n",
        "    f.write(f\"\\ttoken_min_filter: {model.token_min_filter}\\n\")\n",
        "    f.write(f\"\\ttoken_max_filter: {model.token_max_filter}\\n\\n\")\n",
        "\n",
        "    f.write(f\"F1-score: {fitness}\")\n",
        "  \n",
        "\n",
        "  def run(self):\n",
        "\n",
        "    f = open(self.results_file, \"w\")\n",
        "\n",
        "    f.write(f\"Number of tests: {self.numTests}\\nMaximum iterations: {self.maxIterations}\\nSize of population: {self.n}\\nCR: {self.CR}\\n---------------------------------------\\n\")\n",
        "    \n",
        "    masterElite, masterModelElite, masterFitnessElite = None, None, 0.0\n",
        "\n",
        "    m = 0\n",
        "\n",
        "    while m < self.numTests:\n",
        "\n",
        "      print(f\"m: {m}\")\n",
        "\n",
        "      f.write(f\"Test #{m+1}\\n\\n\")\n",
        "\n",
        "      population = self.create_random_population()\n",
        "      fitnessAndModel = np.array([ self.calculate_fitness(population[j,:], self.train, self.test, self.y, self.yt) for j in range(self.n) ])\n",
        "      fitness = fitnessAndModel[:, 0]\n",
        "      models = fitnessAndModel[:, 1]\n",
        "      elite, fitnessElite, modelElite = self.get_elite(population, fitness, models)\n",
        "\n",
        "      k = 0\n",
        "\n",
        "      while k < self.maxIterations:\n",
        "\n",
        "        print(f\"\\tk: {k}\")\n",
        "\n",
        "        vPopulation = self.mutation(population)\n",
        "        uPopulation = self.crossover(population, vPopulation, self.CR)\n",
        "        uFitnessAndModel = np.array([ self.calculate_fitness(uPopulation[j,:], self.train, self.test, self.y, self.yt) for j in range(self.n) ])\n",
        "        uFitness = uFitnessAndModel[:, 0]\n",
        "        uModels = uFitnessAndModel[:, 1]\n",
        "        population, fitness, models = self.selection(population, fitness, models, uPopulation, uFitness, uModels)\n",
        "        elite, fitnessElite, modelElite = self.get_elite(population, fitness, models)\n",
        "\n",
        "        if k%5 == 0:\n",
        "          f.write(f\"k: {k} | fitnessElite: {fitnessElite} | elite: {elite}\\n\")\n",
        "\n",
        "        print(f\"k: {k} | fitnessElite: {fitnessElite} | elite: {elite}\\n\")\n",
        "\n",
        "        k += 1\n",
        "\n",
        "      if fitnessElite > masterFitnessElite:\n",
        "        masterElite = elite\n",
        "        masterFitnessElite = fitnessElite\n",
        "        masterModelElite = modelElite\n",
        "\n",
        "      f.write(f\"\\nmasterElite --> f1-score: {masterFitnessElite} | ind: {masterElite}\\n\\n\")\n",
        "\n",
        "      m += 1\n",
        "\n",
        "    self.describe_model(f, masterModelElite, masterFitnessElite)\n",
        "\n",
        "    f.close()\n",
        "\n",
        "    return masterElite, masterFitnessElite, masterModelElite\n"
      ],
      "execution_count": null,
      "outputs": []
    },
    {
      "cell_type": "markdown",
      "metadata": {
        "id": "vgnlC0LzhjaY"
      },
      "source": [
        "### **Testing the algorithm**"
      ]
    },
    {
      "cell_type": "code",
      "metadata": {
        "id": "0BV_HdO8h0iC"
      },
      "source": [
        "import pandas as pd"
      ],
      "execution_count": null,
      "outputs": []
    },
    {
      "cell_type": "code",
      "metadata": {
        "id": "2UAs5a6TiBtw"
      },
      "source": [
        "data_route = '/content/drive/MyDrive/NLP/train.tsv'\n",
        "results_route = '/content/drive/MyDrive/NLP/results'"
      ],
      "execution_count": null,
      "outputs": []
    },
    {
      "cell_type": "markdown",
      "metadata": {
        "id": "Q7_FUF8kr7ya"
      },
      "source": [
        "In order to optimize the process, the most efficient `CR` needs to be found."
      ]
    },
    {
      "cell_type": "code",
      "metadata": {
        "colab": {
          "base_uri": "https://localhost:8080/"
        },
        "id": "2rQ-gXESqArh",
        "outputId": "0052593b-f4ab-414d-edda-e094ec26aea9"
      },
      "source": [
        "DE = DifferentialEvolution(1, 15, 5, 0.4, f\"{results_route}_new_04.txt\")\n",
        "DE.set_train_test(pd.read_table(data_route))\n",
        "elite, fitness, model = DE.run()\n",
        "print(f\"CR: 0.4\\n\\telite: {elite}\\n\\tfitness: {fitness}\")"
      ],
      "execution_count": null,
      "outputs": [
        {
          "output_type": "stream",
          "text": [
            "train: (3834,) | test: (1889,) | y: (3834,) | yt: (1889,)\n",
            "m: 0\n",
            "\tk: 0\n",
            "k: 0 | fitnessElite: 0.5690269411811275 | elite: [1. 0. 0. 1. 1. 1. 1. 1. 1. 0. 0. 0. 1. 1. 0. 0. 0. 1. 0. 0. 1.]\n",
            "\n",
            "\tk: 1\n",
            "k: 1 | fitnessElite: 0.5690269411811275 | elite: [1. 0. 0. 1. 1. 1. 1. 1. 1. 0. 0. 0. 1. 1. 0. 0. 0. 1. 0. 0. 1.]\n",
            "\n",
            "\tk: 2\n",
            "k: 2 | fitnessElite: 0.5690269411811275 | elite: [1. 0. 0. 1. 1. 1. 1. 1. 1. 0. 0. 0. 1. 1. 0. 0. 0. 1. 0. 0. 1.]\n",
            "\n",
            "\tk: 3\n",
            "k: 3 | fitnessElite: 0.6120780449208507 | elite: [0. 0. 0. 0. 1. 1. 1. 1. 1. 0. 0. 0. 1. 1. 0. 0. 0. 0. 0. 0. 0.]\n",
            "\n",
            "\tk: 4\n",
            "k: 4 | fitnessElite: 0.6120780449208507 | elite: [0. 0. 0. 0. 1. 1. 1. 1. 1. 0. 0. 0. 1. 1. 0. 0. 0. 0. 0. 0. 0.]\n",
            "\n",
            "\tk: 5\n",
            "k: 5 | fitnessElite: 0.6120780449208507 | elite: [0. 0. 0. 0. 1. 1. 1. 1. 1. 0. 0. 0. 1. 1. 0. 0. 0. 0. 0. 0. 0.]\n",
            "\n",
            "\tk: 6\n",
            "k: 6 | fitnessElite: 0.6168376666664065 | elite: [0. 0. 0. 1. 0. 0. 0. 1. 1. 0. 0. 0. 1. 0. 0. 0. 0. 0. 0. 0. 0.]\n",
            "\n",
            "\tk: 7\n",
            "k: 7 | fitnessElite: 0.6168376666664065 | elite: [0. 0. 0. 1. 0. 0. 0. 1. 1. 0. 0. 0. 1. 0. 0. 0. 0. 0. 0. 0. 0.]\n",
            "\n",
            "\tk: 8\n",
            "k: 8 | fitnessElite: 0.6168376666664065 | elite: [0. 0. 0. 0. 0. 0. 0. 1. 1. 0. 0. 0. 0. 0. 0. 0. 0. 0. 0. 0. 0.]\n",
            "\n",
            "\tk: 9\n",
            "k: 9 | fitnessElite: 0.623670233870814 | elite: [0. 0. 0. 0. 0. 0. 0. 1. 1. 0. 0. 0. 0. 0. 1. 0. 0. 0. 0. 0. 0.]\n",
            "\n",
            "\tk: 10\n",
            "k: 10 | fitnessElite: 0.623670233870814 | elite: [0. 0. 0. 0. 0. 0. 0. 1. 1. 0. 0. 0. 0. 0. 1. 0. 0. 0. 0. 0. 0.]\n",
            "\n",
            "\tk: 11\n",
            "k: 11 | fitnessElite: 0.623670233870814 | elite: [0. 0. 0. 0. 0. 0. 0. 1. 1. 0. 0. 0. 0. 0. 1. 0. 0. 0. 0. 0. 0.]\n",
            "\n",
            "\tk: 12\n",
            "k: 12 | fitnessElite: 0.623670233870814 | elite: [0. 0. 0. 0. 0. 0. 0. 1. 1. 0. 0. 0. 0. 0. 1. 0. 0. 0. 0. 0. 0.]\n",
            "\n",
            "\tk: 13\n",
            "k: 13 | fitnessElite: 0.6253037117466489 | elite: [1. 0. 0. 0. 0. 0. 0. 1. 1. 0. 0. 0. 0. 0. 1. 0. 0. 0. 0. 0. 0.]\n",
            "\n",
            "\tk: 14\n",
            "k: 14 | fitnessElite: 0.6253037117466489 | elite: [1. 0. 0. 0. 0. 0. 0. 1. 1. 0. 0. 0. 0. 0. 1. 0. 0. 0. 0. 0. 0.]\n",
            "\n",
            "CR: 0.4\n",
            "\telite: [1. 0. 0. 0. 0. 0. 0. 1. 1. 0. 0. 0. 0. 0. 1. 0. 0. 0. 0. 0. 0.]\n",
            "\tfitness: 0.6253037117466489\n"
          ],
          "name": "stdout"
        }
      ]
    },
    {
      "cell_type": "code",
      "metadata": {
        "colab": {
          "base_uri": "https://localhost:8080/"
        },
        "id": "HaXCeUB5Qe8K",
        "outputId": "cc9f6520-a7f3-419b-cf2b-64a52820cd4d"
      },
      "source": [
        "for CR in np.linspace(0.1, 1, num=10)[:-1]:\n",
        "  print(f\"CR: {CR}\")\n",
        "  DE = DifferentialEvolution(1, 15, 5, CR, f\"{results_route}-CR{int(CR*10)}.txt\")\n",
        "  DE.set_train_test(pd.read_table(data_route))\n",
        "  elite, fitness, model = DE.run()\n",
        "  print(f\"CR: {CR}\\n\\telite: {elite}\\n\\tfitness: {fitness}\")"
      ],
      "execution_count": null,
      "outputs": [
        {
          "output_type": "stream",
          "text": [
            "CR: 0.1\n",
            "train: (3834,) | test: (1889,) | y: (3834,) | yt: (1889,)\n",
            "m: 0\n",
            "\tk: 0\n",
            "k: 0 | fitnessElite: 0.4869402681837238 | elite: [0. 0. 1. 0. 1. 0. 1. 1. 1. 0. 1. 1. 0. 0. 0. 1. 1. 1. 1. 0. 0.]\n",
            "\n",
            "\tk: 1\n",
            "k: 1 | fitnessElite: 0.5248672755773183 | elite: [1. 0. 0. 0. 1. 0. 0. 0. 0. 0. 1. 1. 1. 0. 0. 1. 1. 1. 0. 0. 1.]\n",
            "\n",
            "\tk: 2\n",
            "k: 2 | fitnessElite: 0.5248672755773183 | elite: [1. 0. 0. 0. 1. 0. 0. 0. 0. 0. 1. 1. 1. 0. 0. 1. 1. 1. 0. 0. 1.]\n",
            "\n",
            "\tk: 3\n",
            "k: 3 | fitnessElite: 0.5248672755773183 | elite: [1. 0. 0. 0. 1. 0. 0. 0. 0. 0. 1. 1. 1. 0. 0. 1. 1. 1. 0. 0. 1.]\n",
            "\n",
            "\tk: 4\n",
            "k: 4 | fitnessElite: 0.5248672755773183 | elite: [1. 0. 0. 0. 1. 0. 0. 0. 0. 0. 1. 1. 1. 0. 0. 1. 1. 1. 0. 0. 1.]\n",
            "\n",
            "\tk: 5\n",
            "k: 5 | fitnessElite: 0.5248672755773183 | elite: [1. 0. 0. 0. 1. 0. 0. 0. 0. 0. 1. 1. 1. 0. 0. 1. 1. 1. 0. 0. 1.]\n",
            "\n",
            "\tk: 6\n",
            "k: 6 | fitnessElite: 0.5248672755773183 | elite: [1. 0. 0. 0. 1. 0. 0. 0. 0. 0. 1. 1. 1. 0. 0. 1. 1. 1. 0. 0. 1.]\n",
            "\n",
            "\tk: 7\n",
            "k: 7 | fitnessElite: 0.5248672755773183 | elite: [1. 0. 0. 0. 1. 0. 0. 0. 0. 0. 1. 1. 1. 0. 0. 1. 1. 1. 0. 0. 1.]\n",
            "\n",
            "\tk: 8\n",
            "k: 8 | fitnessElite: 0.5576614944019583 | elite: [1. 0. 0. 0. 1. 0. 0. 0. 0. 0. 1. 1. 1. 0. 0. 1. 1. 1. 0. 0. 1.]\n",
            "\n",
            "\tk: 9\n",
            "k: 9 | fitnessElite: 0.5738857590289792 | elite: [0. 0. 0. 0. 0. 0. 1. 1. 1. 0. 1. 0. 0. 0. 0. 0. 1. 1. 0. 0. 0.]\n",
            "\n",
            "\tk: 10\n",
            "k: 10 | fitnessElite: 0.578127911880441 | elite: [0. 0. 0. 0. 0. 0. 1. 0. 0. 0. 1. 0. 0. 0. 0. 0. 1. 1. 0. 0. 0.]\n",
            "\n",
            "\tk: 11\n",
            "k: 11 | fitnessElite: 0.5873017119670905 | elite: [0. 0. 0. 0. 0. 0. 1. 0. 0. 0. 1. 0. 0. 0. 0. 0. 0. 1. 0. 0. 0.]\n",
            "\n",
            "\tk: 12\n",
            "k: 12 | fitnessElite: 0.5873017119670905 | elite: [0. 0. 0. 0. 0. 0. 1. 0. 0. 0. 1. 0. 0. 0. 0. 0. 0. 1. 0. 0. 0.]\n",
            "\n",
            "\tk: 13\n",
            "k: 13 | fitnessElite: 0.5873017119670905 | elite: [0. 0. 0. 0. 0. 0. 1. 0. 0. 0. 1. 0. 0. 0. 0. 0. 0. 1. 0. 0. 0.]\n",
            "\n",
            "\tk: 14\n",
            "k: 14 | fitnessElite: 0.6123564871210976 | elite: [0. 0. 0. 0. 0. 0. 1. 0. 0. 0. 0. 0. 0. 0. 0. 0. 0. 1. 0. 0. 0.]\n",
            "\n",
            "CR: 0.1\n",
            "\telite: [0. 0. 0. 0. 0. 0. 1. 0. 0. 0. 0. 0. 0. 0. 0. 0. 0. 1. 0. 0. 0.]\n",
            "\tfitness: 0.6123564871210976\n",
            "CR: 0.2\n",
            "train: (3834,) | test: (1889,) | y: (3834,) | yt: (1889,)\n",
            "m: 0\n",
            "\tk: 0\n",
            "k: 0 | fitnessElite: 0.5443776834242211 | elite: [1. 0. 1. 1. 0. 1. 1. 0. 0. 1. 0. 1. 0. 0. 1. 1. 1. 0. 0. 1. 0.]\n",
            "\n",
            "\tk: 1\n",
            "k: 1 | fitnessElite: 0.5443776834242211 | elite: [1. 0. 1. 1. 0. 1. 1. 0. 0. 1. 0. 1. 0. 0. 1. 1. 1. 0. 0. 1. 0.]\n",
            "\n",
            "\tk: 2\n",
            "k: 2 | fitnessElite: 0.5443776834242211 | elite: [1. 0. 1. 1. 0. 1. 1. 0. 0. 1. 0. 1. 0. 0. 1. 1. 1. 0. 0. 1. 0.]\n",
            "\n",
            "\tk: 3\n",
            "k: 3 | fitnessElite: 0.5714661152267785 | elite: [1. 1. 1. 0. 0. 1. 1. 0. 0. 1. 1. 0. 0. 0. 0. 1. 1. 1. 0. 0. 0.]\n",
            "\n",
            "\tk: 4\n",
            "k: 4 | fitnessElite: 0.5730544153056749 | elite: [1. 1. 1. 0. 0. 1. 1. 0. 0. 1. 1. 0. 0. 0. 0. 1. 1. 1. 0. 0. 0.]\n",
            "\n",
            "\tk: 5\n",
            "k: 5 | fitnessElite: 0.5730544153056749 | elite: [1. 1. 1. 0. 0. 1. 1. 0. 0. 1. 1. 0. 0. 0. 0. 1. 1. 1. 0. 0. 0.]\n",
            "\n",
            "\tk: 6\n",
            "k: 6 | fitnessElite: 0.5730544153056749 | elite: [1. 1. 1. 0. 0. 1. 1. 0. 0. 1. 1. 0. 0. 0. 0. 1. 1. 1. 0. 0. 0.]\n",
            "\n",
            "\tk: 7\n",
            "k: 7 | fitnessElite: 0.6033265051941095 | elite: [1. 0. 1. 0. 0. 1. 1. 0. 0. 0. 0. 0. 0. 0. 0. 1. 1. 0. 0. 0. 0.]\n",
            "\n",
            "\tk: 8\n",
            "k: 8 | fitnessElite: 0.6033265051941095 | elite: [1. 0. 1. 0. 0. 1. 1. 0. 0. 0. 0. 0. 0. 0. 0. 1. 1. 0. 0. 0. 0.]\n",
            "\n",
            "\tk: 9\n",
            "k: 9 | fitnessElite: 0.6033265051941095 | elite: [1. 0. 1. 0. 0. 1. 1. 0. 0. 0. 0. 0. 0. 0. 0. 1. 1. 0. 0. 0. 0.]\n",
            "\n",
            "\tk: 10\n",
            "k: 10 | fitnessElite: 0.6033265051941095 | elite: [1. 0. 1. 0. 0. 1. 1. 0. 0. 0. 0. 0. 0. 0. 0. 1. 1. 0. 0. 0. 0.]\n",
            "\n",
            "\tk: 11\n",
            "k: 11 | fitnessElite: 0.6033265051941095 | elite: [1. 0. 1. 0. 0. 1. 1. 0. 0. 0. 0. 0. 0. 0. 0. 1. 1. 0. 0. 0. 0.]\n",
            "\n",
            "\tk: 12\n",
            "k: 12 | fitnessElite: 0.6097373521811797 | elite: [1. 0. 1. 0. 0. 1. 1. 0. 0. 1. 0. 0. 0. 0. 0. 1. 1. 0. 0. 0. 0.]\n",
            "\n",
            "\tk: 13\n",
            "k: 13 | fitnessElite: 0.6097373521811797 | elite: [1. 0. 1. 0. 0. 1. 1. 0. 0. 1. 0. 0. 0. 0. 0. 1. 1. 0. 0. 0. 0.]\n",
            "\n",
            "\tk: 14\n",
            "k: 14 | fitnessElite: 0.6097373521811797 | elite: [1. 0. 1. 0. 0. 1. 1. 0. 0. 1. 0. 0. 0. 0. 0. 1. 1. 0. 0. 0. 0.]\n",
            "\n",
            "CR: 0.2\n",
            "\telite: [1. 0. 1. 0. 0. 1. 1. 0. 0. 1. 0. 0. 0. 0. 0. 1. 1. 0. 0. 0. 0.]\n",
            "\tfitness: 0.6097373521811797\n",
            "CR: 0.30000000000000004\n",
            "train: (3834,) | test: (1889,) | y: (3834,) | yt: (1889,)\n",
            "m: 0\n",
            "\tk: 0\n",
            "k: 0 | fitnessElite: 0.573773824820523 | elite: [0. 1. 1. 1. 0. 1. 0. 0. 0. 0. 0. 0. 1. 1. 1. 1. 1. 1. 0. 1. 0.]\n",
            "\n",
            "\tk: 1\n",
            "k: 1 | fitnessElite: 0.573773824820523 | elite: [0. 1. 1. 1. 0. 1. 0. 0. 0. 0. 0. 0. 1. 1. 1. 1. 1. 1. 0. 1. 0.]\n",
            "\n",
            "\tk: 2\n",
            "k: 2 | fitnessElite: 0.5784461170338502 | elite: [0. 0. 0. 1. 0. 1. 0. 0. 0. 0. 1. 0. 0. 0. 0. 1. 1. 1. 0. 0. 0.]\n",
            "\n",
            "\tk: 3\n",
            "k: 3 | fitnessElite: 0.5784461170338502 | elite: [0. 0. 0. 1. 0. 1. 0. 0. 0. 0. 1. 0. 0. 0. 0. 1. 1. 1. 0. 0. 0.]\n",
            "\n",
            "\tk: 4\n",
            "k: 4 | fitnessElite: 0.5784461170338502 | elite: [0. 0. 0. 1. 0. 1. 0. 0. 0. 0. 1. 0. 0. 0. 0. 1. 1. 1. 0. 0. 0.]\n",
            "\n",
            "\tk: 5\n",
            "k: 5 | fitnessElite: 0.5784461170338502 | elite: [0. 0. 0. 1. 0. 1. 0. 0. 0. 0. 1. 0. 0. 0. 0. 1. 1. 1. 0. 0. 0.]\n",
            "\n",
            "\tk: 6\n",
            "k: 6 | fitnessElite: 0.5849289465909171 | elite: [0. 0. 0. 1. 0. 1. 0. 0. 0. 0. 1. 0. 0. 0. 0. 1. 0. 1. 0. 0. 0.]\n",
            "\n",
            "\tk: 7\n",
            "k: 7 | fitnessElite: 0.6140318856842668 | elite: [1. 1. 0. 1. 0. 0. 0. 0. 1. 1. 0. 0. 0. 0. 1. 1. 1. 0. 0. 0. 0.]\n",
            "\n",
            "\tk: 8\n",
            "k: 8 | fitnessElite: 0.6211297925759157 | elite: [0. 0. 1. 1. 0. 1. 0. 0. 0. 0. 0. 0. 1. 1. 1. 1. 0. 1. 0. 0. 0.]\n",
            "\n",
            "\tk: 9\n",
            "k: 9 | fitnessElite: 0.6211297925759157 | elite: [0. 0. 1. 1. 0. 1. 0. 0. 0. 0. 0. 0. 1. 1. 1. 1. 0. 1. 0. 0. 0.]\n",
            "\n",
            "\tk: 10\n",
            "k: 10 | fitnessElite: 0.6211297925759157 | elite: [0. 0. 1. 1. 0. 1. 0. 0. 0. 0. 0. 0. 1. 1. 1. 1. 0. 1. 0. 0. 0.]\n",
            "\n",
            "\tk: 11\n",
            "k: 11 | fitnessElite: 0.6211297925759157 | elite: [0. 0. 1. 1. 0. 1. 0. 0. 0. 0. 0. 0. 1. 1. 1. 1. 0. 1. 0. 0. 0.]\n",
            "\n",
            "\tk: 12\n",
            "k: 12 | fitnessElite: 0.6218481576987186 | elite: [0. 0. 0. 1. 0. 1. 0. 0. 0. 0. 0. 0. 0. 0. 1. 1. 0. 0. 0. 0. 0.]\n",
            "\n",
            "\tk: 13\n",
            "k: 13 | fitnessElite: 0.6218481576987186 | elite: [0. 0. 0. 1. 0. 1. 0. 0. 0. 0. 0. 0. 0. 0. 1. 1. 0. 0. 0. 0. 0.]\n",
            "\n",
            "\tk: 14\n",
            "k: 14 | fitnessElite: 0.6218481576987186 | elite: [0. 0. 0. 1. 0. 1. 0. 0. 0. 0. 0. 0. 0. 0. 1. 1. 0. 0. 0. 0. 0.]\n",
            "\n",
            "CR: 0.30000000000000004\n",
            "\telite: [0. 0. 0. 1. 0. 1. 0. 0. 0. 0. 0. 0. 0. 0. 1. 1. 0. 0. 0. 0. 0.]\n",
            "\tfitness: 0.6218481576987186\n",
            "CR: 0.4\n",
            "train: (3834,) | test: (1889,) | y: (3834,) | yt: (1889,)\n",
            "m: 0\n",
            "\tk: 0\n",
            "k: 0 | fitnessElite: 0.5425323746907749 | elite: [1. 1. 0. 1. 1. 0. 1. 1. 1. 0. 1. 0. 1. 0. 0. 1. 0. 0. 0. 0. 1.]\n",
            "\n",
            "\tk: 1\n",
            "k: 1 | fitnessElite: 0.5425323746907749 | elite: [1. 1. 0. 1. 1. 0. 1. 1. 1. 0. 1. 0. 1. 0. 0. 1. 0. 0. 0. 0. 1.]\n",
            "\n",
            "\tk: 2\n",
            "k: 2 | fitnessElite: 0.5709538091261434 | elite: [0. 0. 1. 0. 0. 1. 0. 0. 0. 1. 0. 0. 1. 0. 0. 0. 0. 0. 0. 0. 1.]\n",
            "\n",
            "\tk: 3\n",
            "k: 3 | fitnessElite: 0.5709538091261434 | elite: [0. 0. 1. 0. 0. 1. 0. 0. 0. 1. 0. 0. 1. 0. 0. 0. 0. 0. 0. 0. 1.]\n",
            "\n",
            "\tk: 4\n",
            "k: 4 | fitnessElite: 0.5709538091261434 | elite: [0. 0. 1. 0. 0. 1. 0. 0. 0. 1. 0. 0. 1. 0. 0. 0. 0. 0. 0. 0. 1.]\n",
            "\n",
            "\tk: 5\n",
            "k: 5 | fitnessElite: 0.579090410548493 | elite: [1. 1. 0. 0. 0. 1. 0. 0. 0. 0. 0. 0. 1. 0. 0. 0. 0. 1. 0. 0. 1.]\n",
            "\n",
            "\tk: 6\n",
            "k: 6 | fitnessElite: 0.579090410548493 | elite: [1. 1. 0. 0. 0. 1. 0. 0. 0. 0. 0. 0. 1. 0. 0. 0. 0. 1. 0. 0. 1.]\n",
            "\n",
            "\tk: 7\n",
            "k: 7 | fitnessElite: 0.579090410548493 | elite: [1. 1. 0. 0. 0. 1. 0. 0. 0. 0. 0. 0. 1. 0. 0. 0. 0. 1. 0. 0. 1.]\n",
            "\n",
            "\tk: 8\n",
            "k: 8 | fitnessElite: 0.579090410548493 | elite: [1. 1. 0. 0. 0. 1. 0. 0. 0. 0. 0. 0. 1. 0. 0. 0. 0. 1. 0. 0. 1.]\n",
            "\n",
            "\tk: 9\n",
            "k: 9 | fitnessElite: 0.579090410548493 | elite: [1. 1. 0. 0. 0. 1. 0. 0. 0. 0. 0. 0. 1. 0. 0. 0. 0. 1. 0. 0. 1.]\n",
            "\n",
            "\tk: 10\n",
            "k: 10 | fitnessElite: 0.579090410548493 | elite: [1. 1. 0. 0. 0. 1. 0. 0. 0. 0. 0. 0. 1. 0. 0. 0. 0. 1. 0. 0. 1.]\n",
            "\n",
            "\tk: 11\n",
            "k: 11 | fitnessElite: 0.579090410548493 | elite: [1. 1. 0. 0. 0. 1. 0. 0. 0. 0. 0. 0. 1. 0. 0. 0. 0. 1. 0. 0. 1.]\n",
            "\n",
            "\tk: 12\n"
          ],
          "name": "stdout"
        },
        {
          "output_type": "stream",
          "text": [
            "/usr/local/lib/python3.7/dist-packages/microtc/weighting.py:150: RuntimeWarning: invalid value encountered in double_scalars\n",
            "  return [(i, x/n) for i, x in r]\n"
          ],
          "name": "stderr"
        },
        {
          "output_type": "stream",
          "text": [
            "k: 12 | fitnessElite: 0.5807275182573645 | elite: [1. 1. 0. 0. 0. 1. 0. 0. 0. 0. 0. 0. 1. 0. 0. 0. 0. 1. 0. 0. 1.]\n",
            "\n",
            "\tk: 13\n",
            "k: 13 | fitnessElite: 0.5807275182573645 | elite: [1. 1. 0. 0. 0. 1. 0. 0. 0. 0. 0. 0. 1. 0. 0. 0. 0. 1. 0. 0. 1.]\n",
            "\n",
            "\tk: 14\n",
            "k: 14 | fitnessElite: 0.5807275182573645 | elite: [1. 1. 0. 0. 0. 1. 0. 0. 0. 0. 0. 0. 1. 0. 0. 0. 0. 1. 0. 0. 1.]\n",
            "\n",
            "CR: 0.4\n",
            "\telite: [1. 1. 0. 0. 0. 1. 0. 0. 0. 0. 0. 0. 1. 0. 0. 0. 0. 1. 0. 0. 1.]\n",
            "\tfitness: 0.5807275182573645\n",
            "CR: 0.5\n",
            "train: (3834,) | test: (1889,) | y: (3834,) | yt: (1889,)\n",
            "m: 0\n"
          ],
          "name": "stdout"
        },
        {
          "output_type": "stream",
          "text": [
            "/usr/local/lib/python3.7/dist-packages/microtc/weighting.py:150: RuntimeWarning: invalid value encountered in double_scalars\n",
            "  return [(i, x/n) for i, x in r]\n"
          ],
          "name": "stderr"
        },
        {
          "output_type": "stream",
          "text": [
            "\tk: 0\n",
            "k: 0 | fitnessElite: 0.4977425332031296 | elite: [1. 1. 1. 0. 0. 1. 0. 0. 0. 1. 0. 0. 0. 0. 1. 1. 1. 1. 1. 1. 0.]\n",
            "\n",
            "\tk: 1\n",
            "k: 1 | fitnessElite: 0.5420035230530461 | elite: [0. 0. 1. 0. 1. 0. 0. 0. 0. 0. 0. 1. 0. 0. 1. 0. 1. 1. 0. 1. 0.]\n",
            "\n",
            "\tk: 2\n",
            "k: 2 | fitnessElite: 0.5638617633065357 | elite: [1. 0. 0. 0. 0. 0. 0. 0. 0. 1. 0. 0. 0. 0. 1. 1. 1. 0. 0. 1. 0.]\n",
            "\n",
            "\tk: 3\n",
            "k: 3 | fitnessElite: 0.5711142300202257 | elite: [0. 0. 0. 0. 0. 0. 0. 0. 0. 0. 0. 0. 0. 0. 1. 1. 1. 1. 0. 1. 0.]\n",
            "\n",
            "\tk: 4\n",
            "k: 4 | fitnessElite: 0.5712963638925574 | elite: [0. 1. 0. 1. 0. 1. 0. 0. 0. 0. 0. 0. 0. 0. 1. 0. 1. 0. 0. 1. 0.]\n",
            "\n",
            "\tk: 5\n",
            "k: 5 | fitnessElite: 0.5712963638925574 | elite: [0. 1. 0. 1. 0. 1. 0. 0. 0. 0. 0. 0. 0. 0. 1. 0. 1. 0. 0. 1. 0.]\n",
            "\n",
            "\tk: 6\n",
            "k: 6 | fitnessElite: 0.5712963638925574 | elite: [0. 1. 0. 1. 0. 1. 0. 0. 0. 0. 0. 0. 0. 0. 1. 0. 1. 0. 0. 1. 0.]\n",
            "\n",
            "\tk: 7\n",
            "k: 7 | fitnessElite: 0.5712963638925574 | elite: [0. 1. 0. 1. 0. 1. 0. 0. 0. 0. 0. 0. 0. 0. 1. 0. 1. 0. 0. 1. 0.]\n",
            "\n",
            "\tk: 8\n",
            "k: 8 | fitnessElite: 0.5712963638925574 | elite: [0. 1. 0. 1. 0. 1. 0. 0. 0. 0. 0. 0. 0. 0. 1. 0. 1. 0. 0. 1. 0.]\n",
            "\n",
            "\tk: 9\n",
            "k: 9 | fitnessElite: 0.5712963638925574 | elite: [0. 1. 0. 1. 0. 1. 0. 0. 0. 0. 0. 0. 0. 0. 1. 0. 1. 0. 0. 1. 0.]\n",
            "\n",
            "\tk: 10\n",
            "k: 10 | fitnessElite: 0.5712963638925574 | elite: [0. 1. 0. 1. 0. 1. 0. 0. 0. 0. 0. 0. 0. 0. 1. 0. 1. 0. 0. 1. 0.]\n",
            "\n",
            "\tk: 11\n",
            "k: 11 | fitnessElite: 0.5712963638925574 | elite: [0. 1. 0. 0. 0. 1. 0. 0. 0. 0. 0. 0. 0. 0. 1. 0. 1. 0. 0. 1. 0.]\n",
            "\n",
            "\tk: 12\n",
            "k: 12 | fitnessElite: 0.5712963638925574 | elite: [0. 1. 0. 0. 0. 1. 0. 0. 0. 0. 0. 0. 0. 0. 1. 0. 1. 0. 0. 1. 0.]\n",
            "\n",
            "\tk: 13\n",
            "k: 13 | fitnessElite: 0.5712963638925574 | elite: [0. 1. 0. 0. 0. 1. 0. 0. 0. 0. 0. 0. 0. 0. 1. 0. 1. 0. 0. 1. 0.]\n",
            "\n",
            "\tk: 14\n",
            "k: 14 | fitnessElite: 0.5712963638925574 | elite: [0. 1. 0. 0. 0. 1. 0. 0. 0. 0. 0. 0. 0. 0. 1. 0. 1. 0. 0. 1. 0.]\n",
            "\n",
            "CR: 0.5\n",
            "\telite: [0. 1. 0. 0. 0. 1. 0. 0. 0. 0. 0. 0. 0. 0. 1. 0. 1. 0. 0. 1. 0.]\n",
            "\tfitness: 0.5712963638925574\n",
            "CR: 0.6\n",
            "train: (3834,) | test: (1889,) | y: (3834,) | yt: (1889,)\n",
            "m: 0\n",
            "\tk: 0\n",
            "k: 0 | fitnessElite: 0.39015055202297483 | elite: [0. 1. 1. 0. 0. 1. 0. 0. 0. 1. 0. 0. 1. 1. 0. 0. 0. 1. 1. 0. 1.]\n",
            "\n",
            "\tk: 1\n",
            "k: 1 | fitnessElite: 0.39015055202297483 | elite: [0. 1. 1. 0. 0. 1. 0. 0. 0. 1. 0. 0. 1. 1. 0. 0. 0. 1. 1. 0. 1.]\n",
            "\n",
            "\tk: 2\n",
            "k: 2 | fitnessElite: 0.39015055202297483 | elite: [0. 1. 1. 0. 0. 1. 0. 0. 0. 1. 0. 0. 1. 1. 0. 0. 0. 1. 1. 0. 1.]\n",
            "\n",
            "\tk: 3\n",
            "k: 3 | fitnessElite: 0.3990166648462103 | elite: [0. 0. 1. 0. 0. 1. 0. 0. 0. 0. 0. 0. 1. 0. 0. 0. 0. 0. 1. 0. 1.]\n",
            "\n",
            "\tk: 4\n",
            "k: 4 | fitnessElite: 0.3990166648462103 | elite: [0. 0. 1. 0. 0. 1. 0. 0. 0. 0. 0. 0. 1. 0. 0. 0. 0. 0. 1. 0. 1.]\n",
            "\n",
            "\tk: 5\n",
            "k: 5 | fitnessElite: 0.399361521596649 | elite: [0. 0. 1. 0. 0. 1. 0. 0. 0. 0. 0. 0. 0. 1. 0. 1. 0. 0. 1. 0. 1.]\n",
            "\n",
            "\tk: 6\n",
            "k: 6 | fitnessElite: 0.399361521596649 | elite: [0. 0. 1. 0. 0. 1. 0. 0. 0. 0. 0. 0. 0. 1. 0. 1. 0. 0. 1. 0. 1.]\n",
            "\n",
            "\tk: 7\n",
            "k: 7 | fitnessElite: 0.399361521596649 | elite: [0. 0. 1. 0. 0. 1. 0. 0. 0. 0. 0. 0. 0. 1. 0. 1. 0. 0. 1. 0. 1.]\n",
            "\n",
            "\tk: 8\n",
            "k: 8 | fitnessElite: 0.40359723321719 | elite: [0. 0. 1. 0. 0. 1. 0. 0. 0. 0. 0. 0. 0. 1. 0. 1. 0. 0. 1. 0. 1.]\n",
            "\n",
            "\tk: 9\n",
            "k: 9 | fitnessElite: 0.40359723321719 | elite: [0. 0. 1. 0. 0. 1. 0. 0. 0. 0. 0. 0. 0. 1. 0. 1. 0. 0. 1. 0. 1.]\n",
            "\n",
            "\tk: 10\n",
            "k: 10 | fitnessElite: 0.40359723321719 | elite: [0. 0. 1. 0. 0. 1. 0. 0. 0. 0. 0. 0. 0. 1. 0. 1. 0. 0. 1. 0. 1.]\n",
            "\n",
            "\tk: 11\n",
            "k: 11 | fitnessElite: 0.40359723321719 | elite: [0. 0. 1. 0. 0. 1. 0. 0. 0. 0. 0. 0. 0. 1. 0. 1. 0. 0. 1. 0. 1.]\n",
            "\n",
            "\tk: 12\n",
            "k: 12 | fitnessElite: 0.405136937638785 | elite: [0. 0. 1. 0. 0. 1. 0. 0. 0. 0. 0. 0. 1. 1. 0. 1. 0. 0. 1. 0. 1.]\n",
            "\n",
            "\tk: 13\n",
            "k: 13 | fitnessElite: 0.405136937638785 | elite: [0. 0. 1. 0. 0. 1. 0. 0. 0. 0. 0. 0. 1. 1. 0. 1. 0. 0. 1. 0. 1.]\n",
            "\n",
            "\tk: 14\n",
            "k: 14 | fitnessElite: 0.405136937638785 | elite: [0. 0. 1. 0. 0. 1. 0. 0. 0. 0. 0. 0. 1. 1. 0. 1. 0. 0. 1. 0. 1.]\n",
            "\n",
            "CR: 0.6\n",
            "\telite: [0. 0. 1. 0. 0. 1. 0. 0. 0. 0. 0. 0. 1. 1. 0. 1. 0. 0. 1. 0. 1.]\n",
            "\tfitness: 0.405136937638785\n",
            "CR: 0.7000000000000001\n",
            "train: (3834,) | test: (1889,) | y: (3834,) | yt: (1889,)\n",
            "m: 0\n"
          ],
          "name": "stdout"
        },
        {
          "output_type": "stream",
          "text": [
            "/usr/local/lib/python3.7/dist-packages/microtc/weighting.py:150: RuntimeWarning: invalid value encountered in double_scalars\n",
            "  return [(i, x/n) for i, x in r]\n"
          ],
          "name": "stderr"
        },
        {
          "output_type": "stream",
          "text": [
            "\tk: 0\n",
            "k: 0 | fitnessElite: 0.5937335646444118 | elite: [0. 0. 0. 1. 1. 0. 0. 1. 1. 1. 1. 0. 0. 0. 0. 1. 0. 0. 0. 0. 0.]\n",
            "\n",
            "\tk: 1\n",
            "k: 1 | fitnessElite: 0.5937335646444118 | elite: [0. 0. 0. 1. 1. 0. 0. 1. 1. 1. 1. 0. 0. 0. 0. 1. 0. 0. 0. 0. 0.]\n",
            "\n",
            "\tk: 2\n",
            "k: 2 | fitnessElite: 0.6101347004965008 | elite: [1. 1. 1. 0. 0. 0. 0. 0. 1. 1. 0. 0. 0. 0. 0. 1. 0. 0. 0. 0. 0.]\n",
            "\n",
            "\tk: 3\n",
            "k: 3 | fitnessElite: 0.6129095348613064 | elite: [0. 1. 1. 0. 0. 0. 0. 0. 1. 1. 0. 0. 0. 0. 0. 1. 0. 0. 0. 0. 0.]\n",
            "\n",
            "\tk: 4\n",
            "k: 4 | fitnessElite: 0.6129095348613064 | elite: [0. 1. 1. 0. 0. 0. 0. 0. 1. 1. 0. 0. 0. 0. 0. 1. 0. 0. 0. 0. 0.]\n",
            "\n",
            "\tk: 5\n",
            "k: 5 | fitnessElite: 0.6129095348613064 | elite: [0. 1. 1. 0. 0. 0. 0. 0. 1. 1. 0. 0. 0. 0. 0. 1. 0. 0. 0. 0. 0.]\n",
            "\n",
            "\tk: 6\n",
            "k: 6 | fitnessElite: 0.6129095348613064 | elite: [0. 1. 1. 0. 0. 0. 0. 0. 1. 1. 0. 0. 0. 0. 0. 1. 0. 0. 0. 0. 0.]\n",
            "\n",
            "\tk: 7\n",
            "k: 7 | fitnessElite: 0.6129219501848213 | elite: [0. 0. 1. 0. 1. 0. 0. 1. 1. 1. 0. 0. 1. 0. 0. 1. 0. 0. 0. 0. 0.]\n",
            "\n",
            "\tk: 8\n",
            "k: 8 | fitnessElite: 0.6129219501848213 | elite: [0. 0. 1. 0. 1. 0. 0. 1. 1. 1. 0. 0. 1. 0. 0. 1. 0. 0. 0. 0. 0.]\n",
            "\n",
            "\tk: 9\n",
            "k: 9 | fitnessElite: 0.6129219501848213 | elite: [0. 0. 1. 0. 1. 0. 0. 1. 1. 1. 0. 0. 1. 0. 0. 1. 0. 0. 0. 0. 0.]\n",
            "\n",
            "\tk: 10\n",
            "k: 10 | fitnessElite: 0.6130108866754012 | elite: [0. 1. 1. 0. 1. 0. 0. 1. 1. 1. 0. 0. 0. 0. 0. 1. 0. 0. 0. 0. 0.]\n",
            "\n",
            "\tk: 11\n",
            "k: 11 | fitnessElite: 0.6130108866754012 | elite: [0. 1. 1. 0. 1. 0. 0. 1. 1. 1. 0. 0. 0. 0. 0. 1. 0. 0. 0. 0. 0.]\n",
            "\n",
            "\tk: 12\n",
            "k: 12 | fitnessElite: 0.614148319713995 | elite: [0. 0. 1. 0. 1. 0. 0. 1. 1. 1. 0. 0. 0. 0. 0. 1. 0. 0. 0. 0. 0.]\n",
            "\n",
            "\tk: 13\n",
            "k: 13 | fitnessElite: 0.614148319713995 | elite: [0. 0. 1. 0. 1. 0. 0. 1. 1. 1. 0. 0. 0. 0. 0. 1. 0. 0. 0. 0. 0.]\n",
            "\n",
            "\tk: 14\n",
            "k: 14 | fitnessElite: 0.617334854040465 | elite: [1. 0. 1. 0. 0. 0. 0. 1. 1. 1. 0. 0. 0. 0. 0. 1. 0. 0. 0. 0. 0.]\n",
            "\n",
            "CR: 0.7000000000000001\n",
            "\telite: [1. 0. 1. 0. 0. 0. 0. 1. 1. 1. 0. 0. 0. 0. 0. 1. 0. 0. 0. 0. 0.]\n",
            "\tfitness: 0.617334854040465\n",
            "CR: 0.8\n",
            "train: (3834,) | test: (1889,) | y: (3834,) | yt: (1889,)\n",
            "m: 0\n",
            "\tk: 0\n",
            "k: 0 | fitnessElite: 0.4359297654979616 | elite: [0. 1. 1. 0. 0. 0. 1. 0. 0. 1. 1. 1. 0. 1. 0. 1. 0. 1. 1. 1. 0.]\n",
            "\n",
            "\tk: 1\n",
            "k: 1 | fitnessElite: 0.44205740311642305 | elite: [0. 0. 1. 0. 0. 0. 0. 0. 0. 0. 1. 0. 0. 1. 1. 1. 0. 1. 1. 1. 0.]\n",
            "\n",
            "\tk: 2\n",
            "k: 2 | fitnessElite: 0.5054830643815788 | elite: [0. 0. 0. 0. 1. 0. 0. 0. 0. 0. 0. 0. 1. 0. 0. 1. 1. 1. 1. 0. 0.]\n",
            "\n",
            "\tk: 3\n",
            "k: 3 | fitnessElite: 0.5054830643815788 | elite: [0. 0. 0. 0. 1. 0. 0. 0. 0. 0. 0. 0. 1. 0. 0. 1. 1. 1. 1. 0. 0.]\n",
            "\n",
            "\tk: 4\n",
            "k: 4 | fitnessElite: 0.5054830643815788 | elite: [0. 0. 0. 0. 1. 0. 0. 0. 0. 0. 0. 0. 1. 0. 0. 1. 1. 1. 1. 0. 0.]\n",
            "\n",
            "\tk: 5\n",
            "k: 5 | fitnessElite: 0.5054830643815788 | elite: [0. 0. 0. 0. 1. 0. 0. 0. 0. 0. 0. 0. 1. 0. 0. 1. 1. 1. 1. 0. 0.]\n",
            "\n",
            "\tk: 6\n",
            "k: 6 | fitnessElite: 0.5054830643815788 | elite: [0. 0. 0. 0. 1. 0. 0. 0. 0. 0. 0. 0. 1. 0. 0. 1. 1. 1. 1. 0. 0.]\n",
            "\n",
            "\tk: 7\n",
            "k: 7 | fitnessElite: 0.5054830643815788 | elite: [0. 0. 0. 0. 1. 0. 0. 0. 0. 0. 0. 0. 1. 0. 0. 1. 1. 1. 1. 0. 0.]\n",
            "\n",
            "\tk: 8\n",
            "k: 8 | fitnessElite: 0.5054830643815788 | elite: [0. 0. 0. 0. 1. 0. 0. 0. 0. 0. 0. 0. 1. 0. 0. 1. 1. 1. 1. 0. 0.]\n",
            "\n",
            "\tk: 9\n",
            "k: 9 | fitnessElite: 0.5054830643815788 | elite: [0. 0. 0. 0. 1. 0. 0. 0. 0. 0. 0. 0. 1. 0. 0. 1. 1. 1. 1. 0. 0.]\n",
            "\n",
            "\tk: 10\n",
            "k: 10 | fitnessElite: 0.5054830643815788 | elite: [0. 0. 0. 0. 1. 0. 0. 0. 0. 0. 0. 0. 1. 0. 0. 1. 1. 1. 1. 0. 0.]\n",
            "\n",
            "\tk: 11\n",
            "k: 11 | fitnessElite: 0.5134540382949615 | elite: [0. 0. 0. 0. 1. 0. 0. 0. 0. 0. 0. 0. 1. 1. 0. 1. 0. 1. 1. 0. 0.]\n",
            "\n",
            "\tk: 12\n",
            "k: 12 | fitnessElite: 0.5134540382949615 | elite: [0. 0. 0. 0. 1. 0. 0. 0. 0. 0. 0. 0. 1. 1. 0. 1. 0. 1. 1. 0. 0.]\n",
            "\n",
            "\tk: 13\n",
            "k: 13 | fitnessElite: 0.5134540382949615 | elite: [0. 0. 0. 0. 1. 0. 0. 0. 0. 0. 0. 0. 1. 1. 0. 1. 0. 1. 1. 0. 0.]\n",
            "\n",
            "\tk: 14\n",
            "k: 14 | fitnessElite: 0.5134540382949615 | elite: [0. 0. 0. 0. 1. 0. 0. 0. 0. 0. 0. 0. 1. 1. 0. 1. 0. 1. 1. 0. 0.]\n",
            "\n",
            "CR: 0.8\n",
            "\telite: [0. 0. 0. 0. 1. 0. 0. 0. 0. 0. 0. 0. 1. 1. 0. 1. 0. 1. 1. 0. 0.]\n",
            "\tfitness: 0.5134540382949615\n",
            "CR: 0.9\n",
            "train: (3834,) | test: (1889,) | y: (3834,) | yt: (1889,)\n",
            "m: 0\n",
            "\tk: 0\n"
          ],
          "name": "stdout"
        },
        {
          "output_type": "stream",
          "text": [
            "/usr/local/lib/python3.7/dist-packages/microtc/weighting.py:150: RuntimeWarning: invalid value encountered in double_scalars\n",
            "  return [(i, x/n) for i, x in r]\n"
          ],
          "name": "stderr"
        },
        {
          "output_type": "stream",
          "text": [
            "k: 0 | fitnessElite: 0.5955742392807267 | elite: [1. 0. 0. 1. 1. 1. 1. 0. 0. 0. 1. 0. 1. 1. 1. 1. 0. 1. 0. 0. 0.]\n",
            "\n",
            "\tk: 1\n",
            "k: 1 | fitnessElite: 0.5955742392807267 | elite: [1. 0. 0. 1. 1. 1. 1. 0. 0. 0. 1. 0. 1. 1. 1. 1. 0. 1. 0. 0. 0.]\n",
            "\n",
            "\tk: 2\n",
            "k: 2 | fitnessElite: 0.5955742392807267 | elite: [1. 0. 0. 1. 1. 1. 1. 0. 0. 0. 1. 0. 1. 1. 1. 1. 0. 1. 0. 0. 0.]\n",
            "\n",
            "\tk: 3\n",
            "k: 3 | fitnessElite: 0.6197161568256784 | elite: [0. 0. 0. 1. 1. 1. 1. 0. 0. 0. 0. 0. 0. 0. 1. 0. 0. 0. 0. 0. 0.]\n",
            "\n",
            "\tk: 4\n",
            "k: 4 | fitnessElite: 0.6229748555625161 | elite: [0. 0. 0. 1. 1. 1. 1. 0. 0. 0. 0. 0. 0. 0. 1. 0. 0. 0. 0. 0. 0.]\n",
            "\n",
            "\tk: 5\n",
            "k: 5 | fitnessElite: 0.6229748555625161 | elite: [0. 0. 0. 1. 1. 1. 1. 0. 0. 0. 0. 0. 0. 0. 1. 0. 0. 0. 0. 0. 0.]\n",
            "\n",
            "\tk: 6\n",
            "k: 6 | fitnessElite: 0.6229748555625161 | elite: [0. 0. 0. 1. 1. 1. 1. 0. 0. 0. 0. 0. 0. 0. 1. 0. 0. 0. 0. 0. 0.]\n",
            "\n",
            "\tk: 7\n",
            "k: 7 | fitnessElite: 0.6229748555625161 | elite: [0. 0. 0. 1. 1. 1. 1. 0. 0. 0. 0. 0. 0. 0. 1. 0. 0. 0. 0. 0. 0.]\n",
            "\n",
            "\tk: 8\n",
            "k: 8 | fitnessElite: 0.6229748555625161 | elite: [0. 0. 0. 1. 1. 1. 1. 0. 0. 0. 0. 0. 0. 0. 1. 0. 0. 0. 0. 0. 0.]\n",
            "\n",
            "\tk: 9\n",
            "k: 9 | fitnessElite: 0.6229748555625161 | elite: [0. 0. 0. 1. 1. 1. 1. 0. 0. 0. 0. 0. 0. 0. 1. 0. 0. 0. 0. 0. 0.]\n",
            "\n",
            "\tk: 10\n",
            "k: 10 | fitnessElite: 0.6229748555625161 | elite: [0. 0. 0. 1. 1. 1. 1. 0. 0. 0. 0. 0. 0. 0. 1. 0. 0. 0. 0. 0. 0.]\n",
            "\n",
            "\tk: 11\n",
            "k: 11 | fitnessElite: 0.6229748555625161 | elite: [0. 0. 0. 1. 1. 1. 1. 0. 0. 0. 0. 0. 0. 0. 1. 0. 0. 0. 0. 0. 0.]\n",
            "\n",
            "\tk: 12\n",
            "k: 12 | fitnessElite: 0.6229748555625161 | elite: [0. 0. 0. 1. 1. 1. 1. 0. 0. 0. 0. 0. 0. 0. 1. 0. 0. 0. 0. 0. 0.]\n",
            "\n",
            "\tk: 13\n",
            "k: 13 | fitnessElite: 0.6229748555625161 | elite: [0. 0. 0. 1. 1. 1. 1. 0. 0. 0. 0. 0. 0. 0. 1. 0. 0. 0. 0. 0. 0.]\n",
            "\n",
            "\tk: 14\n",
            "k: 14 | fitnessElite: 0.6229748555625161 | elite: [0. 0. 0. 1. 1. 1. 1. 0. 0. 0. 0. 0. 0. 0. 1. 0. 0. 0. 0. 0. 0.]\n",
            "\n",
            "CR: 0.9\n",
            "\telite: [0. 0. 0. 1. 1. 1. 1. 0. 0. 0. 0. 0. 0. 0. 1. 0. 0. 0. 0. 0. 0.]\n",
            "\tfitness: 0.6229748555625161\n"
          ],
          "name": "stdout"
        }
      ]
    }
  ]
}